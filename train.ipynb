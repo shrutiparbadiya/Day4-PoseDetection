{
  "nbformat": 4,
  "nbformat_minor": 0,
  "metadata": {
    "colab": {
      "provenance": [],
      "authorship_tag": "ABX9TyOGZWyVvrX8DNTA7gkpAYWb",
      "include_colab_link": true
    },
    "kernelspec": {
      "name": "python3",
      "display_name": "Python 3"
    },
    "language_info": {
      "name": "python"
    }
  },
  "cells": [
    {
      "cell_type": "markdown",
      "metadata": {
        "id": "view-in-github",
        "colab_type": "text"
      },
      "source": [
        "<a href=\"https://colab.research.google.com/github/shrutiparbadiya/Day4-PoseDetection/blob/main/train.ipynb\" target=\"_parent\"><img src=\"https://colab.research.google.com/assets/colab-badge.svg\" alt=\"Open In Colab\"/></a>"
      ]
    },
    {
      "cell_type": "code",
      "execution_count": null,
      "metadata": {
        "id": "7cYUIduJzSFk"
      },
      "outputs": [],
      "source": [
        "from google.colab import drive\n",
        "\n",
        "drive.mount('/content/gdrive')\n",
        "\n",
        "\n",
        "!pip install ultralytics\n",
        "\n",
        "\n",
        "!ls '/content/gdrive/My Drive/'\n",
        "\n",
        "\n",
        "import os\n",
        "\n",
        "from ultralytics import YOLO\n",
        "\n",
        "\n",
        "model = YOLO('yolov8n-pose.pt')  # load a pretrained model (recommended for training)\n",
        "\n",
        "model.train(data='/content/gdrive/My Drive/ComputerVisionEngineer/PoseDetectionYolov8/config.yaml', epochs=1, imgsz=640)\n",
        "\n",
        "\n",
        "\n",
        "!scp -r /content/runs '/content/gdrive/My Drive/ComputerVisionEngineer/PoseDetectionYolov8'\n",
        ""
      ]
    }
  ]
}